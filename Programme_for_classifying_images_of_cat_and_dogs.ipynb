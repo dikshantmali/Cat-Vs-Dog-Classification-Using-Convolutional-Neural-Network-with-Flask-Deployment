{
 "cells": [
  {
   "cell_type": "code",
   "execution_count": 1,
   "metadata": {},
   "outputs": [],
   "source": [
    "from keras.preprocessing.image import ImageDataGenerator\n",
    "from keras.models import Sequential\n",
    "from keras.layers import Conv2D,MaxPooling2D\n",
    "from keras.layers import Activation,Dropout,Flatten,Dense\n",
    "from keras import backend as K\n",
    "import numpy as np\n",
    "from keras.preprocessing import image\n"
   ]
  },
  {
   "cell_type": "markdown",
   "metadata": {},
   "source": [
    "## Dimension of our Images"
   ]
  },
  {
   "cell_type": "code",
   "execution_count": 2,
   "metadata": {},
   "outputs": [],
   "source": [
    "\n",
    "img_width,img_height = 150 , 150\n",
    "train_data_dir = 'data/train'\n",
    "validation_data_dir = 'data/validation'\n",
    "nb_train_samples = 2000\n",
    "nb_validation_samples = 500\n",
    "epochs = 50\n",
    "batch_size = 30\n",
    "\n",
    "if K.image_data_format() == 'channels_first':\n",
    "    input_shape = (3,img_width,img_height)\n",
    "else:\n",
    "    input_shape = (img_width,img_height,3)\n",
    "\n",
    "train_datagen = ImageDataGenerator(\n",
    "    rescale=1./255,\n",
    "    shear_range=0.2,\n",
    "    zoom_range=0.2,\n",
    "    horizontal_flip=True\n",
    ")"
   ]
  },
  {
   "cell_type": "markdown",
   "metadata": {},
   "source": [
    "## This is the augmentation configuration we will use for testing"
   ]
  },
  {
   "cell_type": "markdown",
   "metadata": {},
   "source": [
    "only rescaling"
   ]
  },
  {
   "cell_type": "code",
   "execution_count": 3,
   "metadata": {},
   "outputs": [],
   "source": [
    "test_datagen = ImageDataGenerator(rescale=1./255)"
   ]
  },
  {
   "cell_type": "code",
   "execution_count": 4,
   "metadata": {},
   "outputs": [
    {
     "name": "stdout",
     "output_type": "stream",
     "text": [
      "Found 20000 images belonging to 2 classes.\n"
     ]
    }
   ],
   "source": [
    "train_generator = train_datagen.flow_from_directory(\n",
    "    train_data_dir,\n",
    "    target_size=(img_width,img_height),\n",
    "    batch_size = batch_size,\n",
    "    class_mode = 'binary')"
   ]
  },
  {
   "cell_type": "code",
   "execution_count": 5,
   "metadata": {},
   "outputs": [
    {
     "name": "stdout",
     "output_type": "stream",
     "text": [
      "Found 5000 images belonging to 2 classes.\n"
     ]
    }
   ],
   "source": [
    "validation_generator = test_datagen.flow_from_directory(\n",
    "    validation_data_dir,\n",
    "    target_size=(img_width,img_height),\n",
    "    batch_size = batch_size,\n",
    "    class_mode = 'binary')"
   ]
  },
  {
   "cell_type": "code",
   "execution_count": 6,
   "metadata": {},
   "outputs": [],
   "source": [
    "model = Sequential()\n",
    "model.add(Conv2D(32,(3,3),input_shape = input_shape))\n",
    "model.add(Activation('relu'))\n",
    "model.add(MaxPooling2D(pool_size =(2,2)))"
   ]
  },
  {
   "cell_type": "code",
   "execution_count": 7,
   "metadata": {},
   "outputs": [
    {
     "name": "stdout",
     "output_type": "stream",
     "text": [
      "Model: \"sequential\"\n",
      "_________________________________________________________________\n",
      "Layer (type)                 Output Shape              Param #   \n",
      "=================================================================\n",
      "conv2d (Conv2D)              (None, 148, 148, 32)      896       \n",
      "_________________________________________________________________\n",
      "activation (Activation)      (None, 148, 148, 32)      0         \n",
      "_________________________________________________________________\n",
      "max_pooling2d (MaxPooling2D) (None, 74, 74, 32)        0         \n",
      "=================================================================\n",
      "Total params: 896\n",
      "Trainable params: 896\n",
      "Non-trainable params: 0\n",
      "_________________________________________________________________\n"
     ]
    }
   ],
   "source": [
    "model.summary()"
   ]
  },
  {
   "cell_type": "code",
   "execution_count": 8,
   "metadata": {},
   "outputs": [],
   "source": [
    "model.add(Conv2D(32,(3,3),input_shape = input_shape))\n",
    "model.add(Activation('relu'))\n",
    "model.add(MaxPooling2D(pool_size =(2,2)))\n",
    "\n",
    "\n",
    "\n",
    "model.add(Conv2D(64,(3,3),input_shape = input_shape))\n",
    "model.add(Activation('relu'))\n",
    "model.add(MaxPooling2D(pool_size =(2,2)))"
   ]
  },
  {
   "cell_type": "code",
   "execution_count": 9,
   "metadata": {},
   "outputs": [],
   "source": [
    "model.add(Flatten())\n",
    "model.add(Dense(64))\n",
    "model.add(Activation('relu'))\n",
    "model.add(Dropout(0.5))\n",
    "model.add(Dense(1))\n",
    "model.add(Activation('sigmoid'))"
   ]
  },
  {
   "cell_type": "code",
   "execution_count": 10,
   "metadata": {
    "scrolled": true
   },
   "outputs": [
    {
     "name": "stdout",
     "output_type": "stream",
     "text": [
      "Model: \"sequential\"\n",
      "_________________________________________________________________\n",
      "Layer (type)                 Output Shape              Param #   \n",
      "=================================================================\n",
      "conv2d (Conv2D)              (None, 148, 148, 32)      896       \n",
      "_________________________________________________________________\n",
      "activation (Activation)      (None, 148, 148, 32)      0         \n",
      "_________________________________________________________________\n",
      "max_pooling2d (MaxPooling2D) (None, 74, 74, 32)        0         \n",
      "_________________________________________________________________\n",
      "conv2d_1 (Conv2D)            (None, 72, 72, 32)        9248      \n",
      "_________________________________________________________________\n",
      "activation_1 (Activation)    (None, 72, 72, 32)        0         \n",
      "_________________________________________________________________\n",
      "max_pooling2d_1 (MaxPooling2 (None, 36, 36, 32)        0         \n",
      "_________________________________________________________________\n",
      "conv2d_2 (Conv2D)            (None, 34, 34, 64)        18496     \n",
      "_________________________________________________________________\n",
      "activation_2 (Activation)    (None, 34, 34, 64)        0         \n",
      "_________________________________________________________________\n",
      "max_pooling2d_2 (MaxPooling2 (None, 17, 17, 64)        0         \n",
      "_________________________________________________________________\n",
      "flatten (Flatten)            (None, 18496)             0         \n",
      "_________________________________________________________________\n",
      "dense (Dense)                (None, 64)                1183808   \n",
      "_________________________________________________________________\n",
      "activation_3 (Activation)    (None, 64)                0         \n",
      "_________________________________________________________________\n",
      "dropout (Dropout)            (None, 64)                0         \n",
      "_________________________________________________________________\n",
      "dense_1 (Dense)              (None, 1)                 65        \n",
      "_________________________________________________________________\n",
      "activation_4 (Activation)    (None, 1)                 0         \n",
      "=================================================================\n",
      "Total params: 1,212,513\n",
      "Trainable params: 1,212,513\n",
      "Non-trainable params: 0\n",
      "_________________________________________________________________\n"
     ]
    }
   ],
   "source": [
    "model.summary()"
   ]
  },
  {
   "cell_type": "code",
   "execution_count": 11,
   "metadata": {},
   "outputs": [],
   "source": [
    "model.compile(loss='binary_crossentropy',optimizer ='rmsprop',metrics = ['accuracy'])"
   ]
  },
  {
   "cell_type": "markdown",
   "metadata": {},
   "source": [
    "## this is the augmentation configuration we will use for training"
   ]
  },
  {
   "cell_type": "code",
   "execution_count": 12,
   "metadata": {
    "scrolled": false
   },
   "outputs": [
    {
     "name": "stdout",
     "output_type": "stream",
     "text": [
      "WARNING:tensorflow:From <ipython-input-12-b8fac2390993>:6: Model.fit_generator (from tensorflow.python.keras.engine.training) is deprecated and will be removed in a future version.\n",
      "Instructions for updating:\n",
      "Please use Model.fit, which supports generators.\n",
      "Epoch 1/50\n",
      "66/66 [==============================] - 85s 1s/step - loss: 0.7007 - accuracy: 0.5364 - val_loss: 0.6720 - val_accuracy: 0.5667\n",
      "Epoch 2/50\n",
      "66/66 [==============================] - 71s 1s/step - loss: 0.6837 - accuracy: 0.6076 - val_loss: 0.6204 - val_accuracy: 0.6792\n",
      "Epoch 3/50\n",
      "66/66 [==============================] - 63s 948ms/step - loss: 0.6512 - accuracy: 0.6394 - val_loss: 0.5957 - val_accuracy: 0.6604\n",
      "Epoch 4/50\n",
      "66/66 [==============================] - 62s 936ms/step - loss: 0.6270 - accuracy: 0.6657 - val_loss: 0.5883 - val_accuracy: 0.6708\n",
      "Epoch 5/50\n",
      "66/66 [==============================] - 65s 985ms/step - loss: 0.6224 - accuracy: 0.6727 - val_loss: 0.6226 - val_accuracy: 0.6292\n",
      "Epoch 6/50\n",
      "66/66 [==============================] - 61s 931ms/step - loss: 0.5693 - accuracy: 0.6934 - val_loss: 0.5358 - val_accuracy: 0.7333\n",
      "Epoch 7/50\n",
      "66/66 [==============================] - 68s 1s/step - loss: 0.5768 - accuracy: 0.7066 - val_loss: 0.4844 - val_accuracy: 0.7875\n",
      "Epoch 8/50\n",
      "66/66 [==============================] - 60s 916ms/step - loss: 0.5510 - accuracy: 0.7197 - val_loss: 0.4977 - val_accuracy: 0.7667\n",
      "Epoch 9/50\n",
      "66/66 [==============================] - 61s 918ms/step - loss: 0.5629 - accuracy: 0.7020 - val_loss: 0.5784 - val_accuracy: 0.6979\n",
      "Epoch 10/50\n",
      "66/66 [==============================] - 60s 903ms/step - loss: 0.5434 - accuracy: 0.7222 - val_loss: 0.4976 - val_accuracy: 0.7479\n",
      "Epoch 11/50\n",
      "66/66 [==============================] - 72s 1s/step - loss: 0.5464 - accuracy: 0.7258 - val_loss: 0.5333 - val_accuracy: 0.7354\n",
      "Epoch 12/50\n",
      "66/66 [==============================] - 82s 1s/step - loss: 0.5251 - accuracy: 0.7328 - val_loss: 0.5450 - val_accuracy: 0.7250\n",
      "Epoch 13/50\n",
      "66/66 [==============================] - 63s 958ms/step - loss: 0.5013 - accuracy: 0.7591 - val_loss: 0.4918 - val_accuracy: 0.7479\n",
      "Epoch 14/50\n",
      "66/66 [==============================] - 62s 934ms/step - loss: 0.5315 - accuracy: 0.7444 - val_loss: 0.4523 - val_accuracy: 0.7854\n",
      "Epoch 15/50\n",
      "66/66 [==============================] - 60s 908ms/step - loss: 0.5135 - accuracy: 0.7556 - val_loss: 0.4395 - val_accuracy: 0.7792\n",
      "Epoch 16/50\n",
      "66/66 [==============================] - 62s 933ms/step - loss: 0.4965 - accuracy: 0.7606 - val_loss: 0.4736 - val_accuracy: 0.7500\n",
      "Epoch 17/50\n",
      "66/66 [==============================] - 61s 921ms/step - loss: 0.4885 - accuracy: 0.7813 - val_loss: 0.4487 - val_accuracy: 0.7833\n",
      "Epoch 18/50\n",
      "66/66 [==============================] - 61s 919ms/step - loss: 0.4923 - accuracy: 0.7616 - val_loss: 0.5124 - val_accuracy: 0.7437\n",
      "Epoch 19/50\n",
      "66/66 [==============================] - 59s 896ms/step - loss: 0.4847 - accuracy: 0.7631 - val_loss: 0.4175 - val_accuracy: 0.7958\n",
      "Epoch 20/50\n",
      "66/66 [==============================] - 65s 979ms/step - loss: 0.4788 - accuracy: 0.7874 - val_loss: 0.4585 - val_accuracy: 0.7792\n",
      "Epoch 21/50\n",
      "66/66 [==============================] - 59s 888ms/step - loss: 0.4953 - accuracy: 0.7535 - val_loss: 0.4442 - val_accuracy: 0.7750\n",
      "Epoch 22/50\n",
      "66/66 [==============================] - 60s 907ms/step - loss: 0.5092 - accuracy: 0.7558 - val_loss: 0.4678 - val_accuracy: 0.7812\n",
      "Epoch 23/50\n",
      "66/66 [==============================] - 59s 895ms/step - loss: 0.4837 - accuracy: 0.7636 - val_loss: 0.4896 - val_accuracy: 0.7667\n",
      "Epoch 24/50\n",
      "66/66 [==============================] - 60s 913ms/step - loss: 0.4635 - accuracy: 0.7919 - val_loss: 0.4669 - val_accuracy: 0.7979\n",
      "Epoch 25/50\n",
      "66/66 [==============================] - 59s 893ms/step - loss: 0.4716 - accuracy: 0.7768 - val_loss: 0.4033 - val_accuracy: 0.8083\n",
      "Epoch 26/50\n",
      "66/66 [==============================] - 64s 967ms/step - loss: 0.4649 - accuracy: 0.7975 - val_loss: 0.4589 - val_accuracy: 0.7958\n",
      "Epoch 27/50\n",
      "66/66 [==============================] - 59s 900ms/step - loss: 0.4654 - accuracy: 0.7863 - val_loss: 0.4620 - val_accuracy: 0.7708\n",
      "Epoch 28/50\n",
      "66/66 [==============================] - 59s 894ms/step - loss: 0.4699 - accuracy: 0.7854 - val_loss: 0.3736 - val_accuracy: 0.8271\n",
      "Epoch 29/50\n",
      "66/66 [==============================] - 61s 918ms/step - loss: 0.4729 - accuracy: 0.7721 - val_loss: 0.4322 - val_accuracy: 0.7979\n",
      "Epoch 30/50\n",
      "66/66 [==============================] - 60s 904ms/step - loss: 0.4580 - accuracy: 0.7869 - val_loss: 0.3895 - val_accuracy: 0.8417\n",
      "Epoch 31/50\n",
      "66/66 [==============================] - 60s 912ms/step - loss: 0.4681 - accuracy: 0.7859 - val_loss: 0.4505 - val_accuracy: 0.7833\n",
      "Epoch 32/50\n",
      "66/66 [==============================] - 59s 892ms/step - loss: 0.4835 - accuracy: 0.7747 - val_loss: 0.3875 - val_accuracy: 0.8229\n",
      "Epoch 33/50\n",
      "66/66 [==============================] - 59s 894ms/step - loss: 0.4476 - accuracy: 0.8015 - val_loss: 0.4468 - val_accuracy: 0.7750\n",
      "Epoch 34/50\n",
      "66/66 [==============================] - 63s 948ms/step - loss: 0.4583 - accuracy: 0.8005 - val_loss: 0.4757 - val_accuracy: 0.7833\n",
      "Epoch 35/50\n",
      "66/66 [==============================] - 63s 947ms/step - loss: 0.4572 - accuracy: 0.7914 - val_loss: 0.4098 - val_accuracy: 0.8167\n",
      "Epoch 36/50\n",
      "66/66 [==============================] - 64s 967ms/step - loss: 0.4592 - accuracy: 0.7924 - val_loss: 0.3641 - val_accuracy: 0.8292\n",
      "Epoch 37/50\n",
      "66/66 [==============================] - 64s 964ms/step - loss: 0.4304 - accuracy: 0.8172 - val_loss: 0.3834 - val_accuracy: 0.8417\n",
      "Epoch 38/50\n",
      "66/66 [==============================] - 64s 964ms/step - loss: 0.4492 - accuracy: 0.8030 - val_loss: 0.4869 - val_accuracy: 0.7729\n",
      "Epoch 39/50\n",
      "66/66 [==============================] - 61s 922ms/step - loss: 0.4472 - accuracy: 0.7995 - val_loss: 0.3926 - val_accuracy: 0.8313\n",
      "Epoch 40/50\n",
      "66/66 [==============================] - 60s 911ms/step - loss: 0.4485 - accuracy: 0.8005 - val_loss: 0.4650 - val_accuracy: 0.7729\n",
      "Epoch 41/50\n",
      "66/66 [==============================] - 68s 1s/step - loss: 0.4222 - accuracy: 0.8071 - val_loss: 0.4446 - val_accuracy: 0.7917\n",
      "Epoch 42/50\n",
      "66/66 [==============================] - 80s 1s/step - loss: 0.4464 - accuracy: 0.7985 - val_loss: 0.4754 - val_accuracy: 0.8083\n",
      "Epoch 43/50\n",
      "66/66 [==============================] - 72s 1s/step - loss: 0.4311 - accuracy: 0.8126 - val_loss: 0.3729 - val_accuracy: 0.8375\n",
      "Epoch 44/50\n",
      "66/66 [==============================] - 62s 946ms/step - loss: 0.4161 - accuracy: 0.8182 - val_loss: 0.4182 - val_accuracy: 0.8062\n",
      "Epoch 45/50\n",
      "66/66 [==============================] - 61s 926ms/step - loss: 0.4324 - accuracy: 0.8040 - val_loss: 0.3643 - val_accuracy: 0.8458\n",
      "Epoch 46/50\n",
      "66/66 [==============================] - 61s 917ms/step - loss: 0.4520 - accuracy: 0.8056 - val_loss: 0.4117 - val_accuracy: 0.8313\n",
      "Epoch 47/50\n",
      "66/66 [==============================] - 59s 898ms/step - loss: 0.4393 - accuracy: 0.8051 - val_loss: 0.3679 - val_accuracy: 0.8354\n",
      "Epoch 48/50\n",
      "66/66 [==============================] - 61s 929ms/step - loss: 0.4288 - accuracy: 0.7970 - val_loss: 0.5050 - val_accuracy: 0.7875\n",
      "Epoch 49/50\n",
      "66/66 [==============================] - 67s 1s/step - loss: 0.4365 - accuracy: 0.7970 - val_loss: 0.3773 - val_accuracy: 0.8250\n",
      "Epoch 50/50\n",
      "66/66 [==============================] - 73s 1s/step - loss: 0.4218 - accuracy: 0.8096 - val_loss: 0.4074 - val_accuracy: 0.8146\n"
     ]
    },
    {
     "data": {
      "text/plain": [
       "<tensorflow.python.keras.callbacks.History at 0x7f7da9cd2710>"
      ]
     },
     "execution_count": 12,
     "metadata": {},
     "output_type": "execute_result"
    }
   ],
   "source": [
    "model.fit_generator(\n",
    "    train_generator,\n",
    "    steps_per_epoch = nb_train_samples // batch_size,\n",
    "    epochs = epochs,\n",
    "    validation_data = validation_generator,\n",
    "    validation_steps=nb_validation_samples // batch_size)"
   ]
  },
  {
   "cell_type": "code",
   "execution_count": 13,
   "metadata": {},
   "outputs": [],
   "source": [
    "model.save('first_try.h5')\n",
    "\n",
    "img_pred = image.load_img('gali_dog.jpeg',target_size = (150,150))\n",
    "img_pred = image.img_to_array(img_pred)\n",
    "img_pred = np.expand_dims(img_pred,axis = 0)"
   ]
  },
  {
   "cell_type": "code",
   "execution_count": 14,
   "metadata": {},
   "outputs": [
    {
     "name": "stdout",
     "output_type": "stream",
     "text": [
      "[[0.]]\n",
      "This Is A cat\n"
     ]
    }
   ],
   "source": [
    "rslt = model.predict(img_pred)\n",
    "print(rslt)\n",
    "if rslt[0][0] == 1:\n",
    "    print('This Is A Dog')\n",
    "else:\n",
    "    print('This Is A cat')\n",
    "    "
   ]
  },
  {
   "cell_type": "markdown",
   "metadata": {},
   "source": [
    "### Loading Already Made Model\n"
   ]
  },
  {
   "cell_type": "code",
   "execution_count": 1,
   "metadata": {},
   "outputs": [],
   "source": [
    "from keras.models import load_model\n",
    "loaded_model = load_model('first_try.h5')"
   ]
  },
  {
   "cell_type": "code",
   "execution_count": 2,
   "metadata": {},
   "outputs": [
    {
     "name": "stdout",
     "output_type": "stream",
     "text": [
      "[[0.]]\n"
     ]
    }
   ],
   "source": [
    "import numpy as np\n",
    "from keras.preprocessing import image\n",
    "img_pred = image.load_img('data/validation/cats/cat.77.jpg',target_size = (150,150))\n",
    "img_pred = image.img_to_array(img_pred)\n",
    "img_pred = np.expand_dims(img_pred,axis = 0)\n",
    "result = loaded_model.predict(img_pred)\n",
    "print(result)"
   ]
  },
  {
   "cell_type": "code",
   "execution_count": null,
   "metadata": {},
   "outputs": [],
   "source": []
  }
 ],
 "metadata": {
  "kernelspec": {
   "display_name": "Python 3",
   "language": "python",
   "name": "python3"
  },
  "language_info": {
   "codemirror_mode": {
    "name": "ipython",
    "version": 3
   },
   "file_extension": ".py",
   "mimetype": "text/x-python",
   "name": "python",
   "nbconvert_exporter": "python",
   "pygments_lexer": "ipython3",
   "version": "3.7.3"
  }
 },
 "nbformat": 4,
 "nbformat_minor": 2
}
